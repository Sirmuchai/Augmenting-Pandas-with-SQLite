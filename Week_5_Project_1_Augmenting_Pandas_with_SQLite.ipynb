{
  "nbformat": 4,
  "nbformat_minor": 0,
  "metadata": {
    "colab": {
      "provenance": [],
      "collapsed_sections": [
        "qadTA4HuceEl",
        "NOEk3_YPdg6p",
        "OA2D7o4sds1t",
        "Rt1jPEhseD8r"
      ],
      "toc_visible": true,
      "include_colab_link": true
    },
    "kernelspec": {
      "name": "python3",
      "display_name": "Python 3"
    },
    "language_info": {
      "name": "python"
    }
  },
  "cells": [
    {
      "cell_type": "markdown",
      "metadata": {
        "id": "view-in-github",
        "colab_type": "text"
      },
      "source": [
        "<a href=\"https://colab.research.google.com/github/Sirmuchai/Augmenting-Pandas-with-SQLite/blob/main/Week_5_Project_1_Augmenting_Pandas_with_SQLite.ipynb\" target=\"_parent\"><img src=\"https://colab.research.google.com/assets/colab-badge.svg\" alt=\"Open In Colab\"/></a>"
      ]
    },
    {
      "cell_type": "markdown",
      "metadata": {
        "id": "2ZK7M8-wZ_J8"
      },
      "source": [
        "# Project Notebook: Augmenting Pandas with SQLite"
      ]
    },
    {
      "cell_type": "markdown",
      "metadata": {
        "id": "qadTA4HuceEl"
      },
      "source": [
        "## Question 1: Introduction"
      ]
    },
    {
      "cell_type": "markdown",
      "metadata": {
        "id": "aF9k8rixclSR"
      },
      "source": [
        "In this session, we explored a few different ways to work with larger datasets in pandas. In this guided project, we'll practice using some of the techniques we learned to analyze startup investments from Crunchbase.com.\n",
        "\n",
        "Every year, thousands of startup companies raise financing from investors. Each time a startup raises money, we refer to the event as a fundraising round. Crunchbase is a website that crowdsources information on the fundraising rounds of many startups. The Crunchbase user community submits, edits, and maintains most of the information in Crunchbase.\n",
        "\n",
        "In return, Crunchbase makes the data available through a Web application and a fee-based API. Before Crunchbase switched to the paid API model, multiple groups crawled the site and released the data online. Because the information on the startups and their fundraising rounds is always changing, the data set we'll be using isn't completely up to date.\n",
        "\n",
        "Throughout this project, we'll practice working with different memory constraints. In this step, let's assume we only have 10 megabytes of available memory. While crunchbase-investments.csv (https://bit.ly/3BPcobU) consumes 10.3 megabytes of disk space, we know from earlier lessons that pandas often requires 4 to 6 times amount of space in memory as the file does on disk (especially when there's many string columns).\n",
        "\n",
        "\n",
        "**Tasks**\n",
        "\n",
        "* Because the data set contains over 50,000 rows, you'll need to read the data set into dataframes using 5,000 row chunks to ensure that each chunk consumes much less than 10 megabytes of memory.\n",
        "* Across all of the chunks, become familiar with:\n",
        "1. Each column's missing value counts.\n",
        "2. Each column's memory footprint.\n",
        "3. The total memory footprint of all of the chunks combined.\n",
        "4. Which column(s) we can drop because they aren't useful for analysis.\n",
        "\n"
      ]
    },
    {
      "cell_type": "code",
      "metadata": {
        "id": "tOYoNl5qe1ow",
        "colab": {
          "base_uri": "https://localhost:8080/"
        },
        "outputId": "60e75dab-9eb6-41db-90fe-1d65714491de"
      },
      "source": [
        "# Your code goes here\n",
        "# Dataset URL = https://bit.ly/3BPcobU\n",
        "#\n",
        "\n",
        "import pandas as pd\n",
        "\n",
        "# Define the file path\n",
        "file_path = \"https://bit.ly/3BPcobU\"\n",
        "\n",
        "# Define the chunk size\n",
        "chunk_size = 5000\n",
        "\n",
        "# Create an empty list to store the chunks\n",
        "chunks = []\n",
        "\n",
        "# Loop over the file in chunks\n",
        "for chunk in pd.read_csv(file_path, encoding='ISO-8859-1', chunksize=chunk_size):\n",
        "    chunks.append(chunk)\n",
        "\n",
        "# Loop over the chunks and display the column information\n",
        "for chunk in chunks:\n",
        "    print(chunk.info(memory_usage='deep'))\n",
        "\n",
        "# Calculate the total memory usage of all the chunks\n",
        "total_memory_usage = sum(chunk.memory_usage(deep=True).sum() for chunk in chunks)"
      ],
      "execution_count": 1,
      "outputs": [
        {
          "output_type": "stream",
          "name": "stdout",
          "text": [
            "<class 'pandas.core.frame.DataFrame'>\n",
            "RangeIndex: 5000 entries, 0 to 4999\n",
            "Data columns (total 20 columns):\n",
            " #   Column                  Non-Null Count  Dtype  \n",
            "---  ------                  --------------  -----  \n",
            " 0   company_permalink       5000 non-null   object \n",
            " 1   company_name            5000 non-null   object \n",
            " 2   company_category_code   4948 non-null   object \n",
            " 3   company_country_code    5000 non-null   object \n",
            " 4   company_state_code      4947 non-null   object \n",
            " 5   company_region          5000 non-null   object \n",
            " 6   company_city            4936 non-null   object \n",
            " 7   investor_permalink      5000 non-null   object \n",
            " 8   investor_name           5000 non-null   object \n",
            " 9   investor_category_code  2443 non-null   object \n",
            " 10  investor_country_code   4222 non-null   object \n",
            " 11  investor_state_code     3629 non-null   object \n",
            " 12  investor_region         5000 non-null   object \n",
            " 13  investor_city           4100 non-null   object \n",
            " 14  funding_round_type      5000 non-null   object \n",
            " 15  funded_at               5000 non-null   object \n",
            " 16  funded_month            5000 non-null   object \n",
            " 17  funded_quarter          5000 non-null   object \n",
            " 18  funded_year             5000 non-null   int64  \n",
            " 19  raised_amount_usd       4347 non-null   float64\n",
            "dtypes: float64(1), int64(1), object(18)\n",
            "memory usage: 5.6 MB\n",
            "None\n",
            "<class 'pandas.core.frame.DataFrame'>\n",
            "RangeIndex: 5000 entries, 5000 to 9999\n",
            "Data columns (total 20 columns):\n",
            " #   Column                  Non-Null Count  Dtype  \n",
            "---  ------                  --------------  -----  \n",
            " 0   company_permalink       5000 non-null   object \n",
            " 1   company_name            5000 non-null   object \n",
            " 2   company_category_code   4949 non-null   object \n",
            " 3   company_country_code    5000 non-null   object \n",
            " 4   company_state_code      4957 non-null   object \n",
            " 5   company_region          5000 non-null   object \n",
            " 6   company_city            4955 non-null   object \n",
            " 7   investor_permalink      5000 non-null   object \n",
            " 8   investor_name           5000 non-null   object \n",
            " 9   investor_category_code  0 non-null      float64\n",
            " 10  investor_country_code   4739 non-null   object \n",
            " 11  investor_state_code     4286 non-null   object \n",
            " 12  investor_region         5000 non-null   object \n",
            " 13  investor_city           4687 non-null   object \n",
            " 14  funding_round_type      5000 non-null   object \n",
            " 15  funded_at               5000 non-null   object \n",
            " 16  funded_month            5000 non-null   object \n",
            " 17  funded_quarter          5000 non-null   object \n",
            " 18  funded_year             5000 non-null   int64  \n",
            " 19  raised_amount_usd       4761 non-null   float64\n",
            "dtypes: float64(2), int64(1), object(17)\n",
            "memory usage: 5.5 MB\n",
            "None\n",
            "<class 'pandas.core.frame.DataFrame'>\n",
            "RangeIndex: 5000 entries, 10000 to 14999\n",
            "Data columns (total 20 columns):\n",
            " #   Column                  Non-Null Count  Dtype  \n",
            "---  ------                  --------------  -----  \n",
            " 0   company_permalink       5000 non-null   object \n",
            " 1   company_name            5000 non-null   object \n",
            " 2   company_category_code   4918 non-null   object \n",
            " 3   company_country_code    5000 non-null   object \n",
            " 4   company_state_code      4944 non-null   object \n",
            " 5   company_region          5000 non-null   object \n",
            " 6   company_city            4956 non-null   object \n",
            " 7   investor_permalink      5000 non-null   object \n",
            " 8   investor_name           5000 non-null   object \n",
            " 9   investor_category_code  0 non-null      float64\n",
            " 10  investor_country_code   4729 non-null   object \n",
            " 11  investor_state_code     4192 non-null   object \n",
            " 12  investor_region         5000 non-null   object \n",
            " 13  investor_city           4686 non-null   object \n",
            " 14  funding_round_type      5000 non-null   object \n",
            " 15  funded_at               5000 non-null   object \n",
            " 16  funded_month            5000 non-null   object \n",
            " 17  funded_quarter          5000 non-null   object \n",
            " 18  funded_year             5000 non-null   int64  \n",
            " 19  raised_amount_usd       4779 non-null   float64\n",
            "dtypes: float64(2), int64(1), object(17)\n",
            "memory usage: 5.5 MB\n",
            "None\n",
            "<class 'pandas.core.frame.DataFrame'>\n",
            "RangeIndex: 5000 entries, 15000 to 19999\n",
            "Data columns (total 20 columns):\n",
            " #   Column                  Non-Null Count  Dtype  \n",
            "---  ------                  --------------  -----  \n",
            " 0   company_permalink       5000 non-null   object \n",
            " 1   company_name            5000 non-null   object \n",
            " 2   company_category_code   4943 non-null   object \n",
            " 3   company_country_code    5000 non-null   object \n",
            " 4   company_state_code      4964 non-null   object \n",
            " 5   company_region          5000 non-null   object \n",
            " 6   company_city            4956 non-null   object \n",
            " 7   investor_permalink      5000 non-null   object \n",
            " 8   investor_name           5000 non-null   object \n",
            " 9   investor_category_code  0 non-null      float64\n",
            " 10  investor_country_code   4761 non-null   object \n",
            " 11  investor_state_code     4286 non-null   object \n",
            " 12  investor_region         5000 non-null   object \n",
            " 13  investor_city           4726 non-null   object \n",
            " 14  funding_round_type      5000 non-null   object \n",
            " 15  funded_at               5000 non-null   object \n",
            " 16  funded_month            5000 non-null   object \n",
            " 17  funded_quarter          5000 non-null   object \n",
            " 18  funded_year             5000 non-null   int64  \n",
            " 19  raised_amount_usd       4701 non-null   float64\n",
            "dtypes: float64(2), int64(1), object(17)\n",
            "memory usage: 5.5 MB\n",
            "None\n",
            "<class 'pandas.core.frame.DataFrame'>\n",
            "RangeIndex: 5000 entries, 20000 to 24999\n",
            "Data columns (total 20 columns):\n",
            " #   Column                  Non-Null Count  Dtype  \n",
            "---  ------                  --------------  -----  \n",
            " 0   company_permalink       5000 non-null   object \n",
            " 1   company_name            5000 non-null   object \n",
            " 2   company_category_code   4931 non-null   object \n",
            " 3   company_country_code    5000 non-null   object \n",
            " 4   company_state_code      4960 non-null   object \n",
            " 5   company_region          5000 non-null   object \n",
            " 6   company_city            4959 non-null   object \n",
            " 7   investor_permalink      5000 non-null   object \n",
            " 8   investor_name           5000 non-null   object \n",
            " 9   investor_category_code  0 non-null      float64\n",
            " 10  investor_country_code   4648 non-null   object \n",
            " 11  investor_state_code     3884 non-null   object \n",
            " 12  investor_region         5000 non-null   object \n",
            " 13  investor_city           4566 non-null   object \n",
            " 14  funding_round_type      5000 non-null   object \n",
            " 15  funded_at               5000 non-null   object \n",
            " 16  funded_month            5000 non-null   object \n",
            " 17  funded_quarter          5000 non-null   object \n",
            " 18  funded_year             5000 non-null   int64  \n",
            " 19  raised_amount_usd       4757 non-null   float64\n",
            "dtypes: float64(2), int64(1), object(17)\n",
            "memory usage: 5.5 MB\n",
            "None\n",
            "<class 'pandas.core.frame.DataFrame'>\n",
            "RangeIndex: 5000 entries, 25000 to 29999\n",
            "Data columns (total 20 columns):\n",
            " #   Column                  Non-Null Count  Dtype  \n",
            "---  ------                  --------------  -----  \n",
            " 0   company_permalink       5000 non-null   object \n",
            " 1   company_name            5000 non-null   object \n",
            " 2   company_category_code   4939 non-null   object \n",
            " 3   company_country_code    5000 non-null   object \n",
            " 4   company_state_code      4961 non-null   object \n",
            " 5   company_region          5000 non-null   object \n",
            " 6   company_city            4967 non-null   object \n",
            " 7   investor_permalink      5000 non-null   object \n",
            " 8   investor_name           5000 non-null   object \n",
            " 9   investor_category_code  0 non-null      float64\n",
            " 10  investor_country_code   4782 non-null   object \n",
            " 11  investor_state_code     4268 non-null   object \n",
            " 12  investor_region         5000 non-null   object \n",
            " 13  investor_city           4762 non-null   object \n",
            " 14  funding_round_type      5000 non-null   object \n",
            " 15  funded_at               5000 non-null   object \n",
            " 16  funded_month            5000 non-null   object \n",
            " 17  funded_quarter          5000 non-null   object \n",
            " 18  funded_year             5000 non-null   int64  \n",
            " 19  raised_amount_usd       4794 non-null   float64\n",
            "dtypes: float64(2), int64(1), object(17)\n",
            "memory usage: 5.6 MB\n",
            "None\n",
            "<class 'pandas.core.frame.DataFrame'>\n",
            "RangeIndex: 5000 entries, 30000 to 34999\n",
            "Data columns (total 20 columns):\n",
            " #   Column                  Non-Null Count  Dtype  \n",
            "---  ------                  --------------  -----  \n",
            " 0   company_permalink       4999 non-null   object \n",
            " 1   company_name            4999 non-null   object \n",
            " 2   company_category_code   4912 non-null   object \n",
            " 3   company_country_code    4999 non-null   object \n",
            " 4   company_state_code      4965 non-null   object \n",
            " 5   company_region          4999 non-null   object \n",
            " 6   company_city            4958 non-null   object \n",
            " 7   investor_permalink      4998 non-null   object \n",
            " 8   investor_name           4998 non-null   object \n",
            " 9   investor_category_code  0 non-null      float64\n",
            " 10  investor_country_code   4687 non-null   object \n",
            " 11  investor_state_code     4078 non-null   object \n",
            " 12  investor_region         4998 non-null   object \n",
            " 13  investor_city           4661 non-null   object \n",
            " 14  funding_round_type      4997 non-null   object \n",
            " 15  funded_at               4997 non-null   object \n",
            " 16  funded_month            4997 non-null   object \n",
            " 17  funded_quarter          4997 non-null   object \n",
            " 18  funded_year             4997 non-null   float64\n",
            " 19  raised_amount_usd       4713 non-null   float64\n",
            "dtypes: float64(3), object(17)\n",
            "memory usage: 5.5 MB\n",
            "None\n",
            "<class 'pandas.core.frame.DataFrame'>\n",
            "RangeIndex: 5000 entries, 35000 to 39999\n",
            "Data columns (total 20 columns):\n",
            " #   Column                  Non-Null Count  Dtype  \n",
            "---  ------                  --------------  -----  \n",
            " 0   company_permalink       5000 non-null   object \n",
            " 1   company_name            5000 non-null   object \n",
            " 2   company_category_code   4917 non-null   object \n",
            " 3   company_country_code    5000 non-null   object \n",
            " 4   company_state_code      4935 non-null   object \n",
            " 5   company_region          5000 non-null   object \n",
            " 6   company_city            4945 non-null   object \n",
            " 7   investor_permalink      5000 non-null   object \n",
            " 8   investor_name           5000 non-null   object \n",
            " 9   investor_category_code  0 non-null      float64\n",
            " 10  investor_country_code   4733 non-null   object \n",
            " 11  investor_state_code     4225 non-null   object \n",
            " 12  investor_region         5000 non-null   object \n",
            " 13  investor_city           4666 non-null   object \n",
            " 14  funding_round_type      5000 non-null   object \n",
            " 15  funded_at               5000 non-null   object \n",
            " 16  funded_month            5000 non-null   object \n",
            " 17  funded_quarter          5000 non-null   object \n",
            " 18  funded_year             5000 non-null   int64  \n",
            " 19  raised_amount_usd       4632 non-null   float64\n",
            "dtypes: float64(2), int64(1), object(17)\n",
            "memory usage: 5.5 MB\n",
            "None\n",
            "<class 'pandas.core.frame.DataFrame'>\n",
            "RangeIndex: 5000 entries, 40000 to 44999\n",
            "Data columns (total 20 columns):\n",
            " #   Column                  Non-Null Count  Dtype  \n",
            "---  ------                  --------------  -----  \n",
            " 0   company_permalink       5000 non-null   object \n",
            " 1   company_name            5000 non-null   object \n",
            " 2   company_category_code   4925 non-null   object \n",
            " 3   company_country_code    5000 non-null   object \n",
            " 4   company_state_code      4950 non-null   object \n",
            " 5   company_region          5000 non-null   object \n",
            " 6   company_city            4950 non-null   object \n",
            " 7   investor_permalink      5000 non-null   object \n",
            " 8   investor_name           5000 non-null   object \n",
            " 9   investor_category_code  0 non-null      float64\n",
            " 10  investor_country_code   3568 non-null   object \n",
            " 11  investor_state_code     3213 non-null   object \n",
            " 12  investor_region         5000 non-null   object \n",
            " 13  investor_city           3536 non-null   object \n",
            " 14  funding_round_type      5000 non-null   object \n",
            " 15  funded_at               5000 non-null   object \n",
            " 16  funded_month            5000 non-null   object \n",
            " 17  funded_quarter          5000 non-null   object \n",
            " 18  funded_year             5000 non-null   int64  \n",
            " 19  raised_amount_usd       4676 non-null   float64\n",
            "dtypes: float64(2), int64(1), object(17)\n",
            "memory usage: 5.4 MB\n",
            "None\n",
            "<class 'pandas.core.frame.DataFrame'>\n",
            "RangeIndex: 5000 entries, 45000 to 49999\n",
            "Data columns (total 20 columns):\n",
            " #   Column                  Non-Null Count  Dtype  \n",
            "---  ------                  --------------  -----  \n",
            " 0   company_permalink       5000 non-null   object \n",
            " 1   company_name            5000 non-null   object \n",
            " 2   company_category_code   4985 non-null   object \n",
            " 3   company_country_code    5000 non-null   object \n",
            " 4   company_state_code      4954 non-null   object \n",
            " 5   company_region          5000 non-null   object \n",
            " 6   company_city            4930 non-null   object \n",
            " 7   investor_permalink      5000 non-null   object \n",
            " 8   investor_name           5000 non-null   object \n",
            " 9   investor_category_code  0 non-null      float64\n",
            " 10  investor_country_code   0 non-null      float64\n",
            " 11  investor_state_code     0 non-null      float64\n",
            " 12  investor_region         5000 non-null   object \n",
            " 13  investor_city           0 non-null      float64\n",
            " 14  funding_round_type      5000 non-null   object \n",
            " 15  funded_at               5000 non-null   object \n",
            " 16  funded_month            5000 non-null   object \n",
            " 17  funded_quarter          5000 non-null   object \n",
            " 18  funded_year             5000 non-null   int64  \n",
            " 19  raised_amount_usd       4531 non-null   float64\n",
            "dtypes: float64(5), int64(1), object(14)\n",
            "memory usage: 4.6 MB\n",
            "None\n",
            "<class 'pandas.core.frame.DataFrame'>\n",
            "RangeIndex: 2870 entries, 50000 to 52869\n",
            "Data columns (total 20 columns):\n",
            " #   Column                  Non-Null Count  Dtype  \n",
            "---  ------                  --------------  -----  \n",
            " 0   company_permalink       2870 non-null   object \n",
            " 1   company_name            2870 non-null   object \n",
            " 2   company_category_code   2860 non-null   object \n",
            " 3   company_country_code    2870 non-null   object \n",
            " 4   company_state_code      2841 non-null   object \n",
            " 5   company_region          2870 non-null   object \n",
            " 6   company_city            2825 non-null   object \n",
            " 7   investor_permalink      2870 non-null   object \n",
            " 8   investor_name           2870 non-null   object \n",
            " 9   investor_category_code  0 non-null      float64\n",
            " 10  investor_country_code   0 non-null      float64\n",
            " 11  investor_state_code     0 non-null      float64\n",
            " 12  investor_region         2870 non-null   object \n",
            " 13  investor_city           0 non-null      float64\n",
            " 14  funding_round_type      2870 non-null   object \n",
            " 15  funded_at               2870 non-null   object \n",
            " 16  funded_month            2870 non-null   object \n",
            " 17  funded_quarter          2870 non-null   object \n",
            " 18  funded_year             2870 non-null   int64  \n",
            " 19  raised_amount_usd       2580 non-null   float64\n",
            "dtypes: float64(5), int64(1), object(14)\n",
            "memory usage: 2.7 MB\n",
            "None\n"
          ]
        }
      ]
    },
    {
      "cell_type": "markdown",
      "metadata": {
        "id": "NOEk3_YPdg6p"
      },
      "source": [
        "## Question 2: Selecting Data Types"
      ]
    },
    {
      "cell_type": "markdown",
      "metadata": {
        "id": "FD1IqmzhcEd3"
      },
      "source": [
        "Now that we have a good sense of the missing values, let's get familiar with the column types before adding the data into SQLite.\n",
        "\n",
        "**Tasks**\n",
        "\n",
        "* Identify the types for each column.\n",
        "* Identify the numeric columns we can represent using more space efficient types.\n",
        "For text columns:\n",
        "* Analyze the unique value counts across all of the chunks to see if we can convert them to a numeric type.\n",
        "* See if we clean clean any text columns and separate them into multiple numeric columns without adding any overhead when querying.\n",
        "* Make your changes to the code from the last step so that the overall memory the data consumes stays under 10 megabytes.\n"
      ]
    },
    {
      "cell_type": "code",
      "metadata": {
        "id": "QNgzuiStZ3WN",
        "colab": {
          "base_uri": "https://localhost:8080/"
        },
        "outputId": "224eb463-20d6-484c-d2af-ca1f8f97e792"
      },
      "source": [
        "# Your code goes here\n",
        "\n",
        "# Loop over the chunks and display the data types\n",
        "for chunk in chunks:\n",
        "    print(chunk.dtypes)\n"
      ],
      "execution_count": 2,
      "outputs": [
        {
          "output_type": "stream",
          "name": "stdout",
          "text": [
            "company_permalink          object\n",
            "company_name               object\n",
            "company_category_code      object\n",
            "company_country_code       object\n",
            "company_state_code         object\n",
            "company_region             object\n",
            "company_city               object\n",
            "investor_permalink         object\n",
            "investor_name              object\n",
            "investor_category_code     object\n",
            "investor_country_code      object\n",
            "investor_state_code        object\n",
            "investor_region            object\n",
            "investor_city              object\n",
            "funding_round_type         object\n",
            "funded_at                  object\n",
            "funded_month               object\n",
            "funded_quarter             object\n",
            "funded_year                 int64\n",
            "raised_amount_usd         float64\n",
            "dtype: object\n",
            "company_permalink          object\n",
            "company_name               object\n",
            "company_category_code      object\n",
            "company_country_code       object\n",
            "company_state_code         object\n",
            "company_region             object\n",
            "company_city               object\n",
            "investor_permalink         object\n",
            "investor_name              object\n",
            "investor_category_code    float64\n",
            "investor_country_code      object\n",
            "investor_state_code        object\n",
            "investor_region            object\n",
            "investor_city              object\n",
            "funding_round_type         object\n",
            "funded_at                  object\n",
            "funded_month               object\n",
            "funded_quarter             object\n",
            "funded_year                 int64\n",
            "raised_amount_usd         float64\n",
            "dtype: object\n",
            "company_permalink          object\n",
            "company_name               object\n",
            "company_category_code      object\n",
            "company_country_code       object\n",
            "company_state_code         object\n",
            "company_region             object\n",
            "company_city               object\n",
            "investor_permalink         object\n",
            "investor_name              object\n",
            "investor_category_code    float64\n",
            "investor_country_code      object\n",
            "investor_state_code        object\n",
            "investor_region            object\n",
            "investor_city              object\n",
            "funding_round_type         object\n",
            "funded_at                  object\n",
            "funded_month               object\n",
            "funded_quarter             object\n",
            "funded_year                 int64\n",
            "raised_amount_usd         float64\n",
            "dtype: object\n",
            "company_permalink          object\n",
            "company_name               object\n",
            "company_category_code      object\n",
            "company_country_code       object\n",
            "company_state_code         object\n",
            "company_region             object\n",
            "company_city               object\n",
            "investor_permalink         object\n",
            "investor_name              object\n",
            "investor_category_code    float64\n",
            "investor_country_code      object\n",
            "investor_state_code        object\n",
            "investor_region            object\n",
            "investor_city              object\n",
            "funding_round_type         object\n",
            "funded_at                  object\n",
            "funded_month               object\n",
            "funded_quarter             object\n",
            "funded_year                 int64\n",
            "raised_amount_usd         float64\n",
            "dtype: object\n",
            "company_permalink          object\n",
            "company_name               object\n",
            "company_category_code      object\n",
            "company_country_code       object\n",
            "company_state_code         object\n",
            "company_region             object\n",
            "company_city               object\n",
            "investor_permalink         object\n",
            "investor_name              object\n",
            "investor_category_code    float64\n",
            "investor_country_code      object\n",
            "investor_state_code        object\n",
            "investor_region            object\n",
            "investor_city              object\n",
            "funding_round_type         object\n",
            "funded_at                  object\n",
            "funded_month               object\n",
            "funded_quarter             object\n",
            "funded_year                 int64\n",
            "raised_amount_usd         float64\n",
            "dtype: object\n",
            "company_permalink          object\n",
            "company_name               object\n",
            "company_category_code      object\n",
            "company_country_code       object\n",
            "company_state_code         object\n",
            "company_region             object\n",
            "company_city               object\n",
            "investor_permalink         object\n",
            "investor_name              object\n",
            "investor_category_code    float64\n",
            "investor_country_code      object\n",
            "investor_state_code        object\n",
            "investor_region            object\n",
            "investor_city              object\n",
            "funding_round_type         object\n",
            "funded_at                  object\n",
            "funded_month               object\n",
            "funded_quarter             object\n",
            "funded_year                 int64\n",
            "raised_amount_usd         float64\n",
            "dtype: object\n",
            "company_permalink          object\n",
            "company_name               object\n",
            "company_category_code      object\n",
            "company_country_code       object\n",
            "company_state_code         object\n",
            "company_region             object\n",
            "company_city               object\n",
            "investor_permalink         object\n",
            "investor_name              object\n",
            "investor_category_code    float64\n",
            "investor_country_code      object\n",
            "investor_state_code        object\n",
            "investor_region            object\n",
            "investor_city              object\n",
            "funding_round_type         object\n",
            "funded_at                  object\n",
            "funded_month               object\n",
            "funded_quarter             object\n",
            "funded_year               float64\n",
            "raised_amount_usd         float64\n",
            "dtype: object\n",
            "company_permalink          object\n",
            "company_name               object\n",
            "company_category_code      object\n",
            "company_country_code       object\n",
            "company_state_code         object\n",
            "company_region             object\n",
            "company_city               object\n",
            "investor_permalink         object\n",
            "investor_name              object\n",
            "investor_category_code    float64\n",
            "investor_country_code      object\n",
            "investor_state_code        object\n",
            "investor_region            object\n",
            "investor_city              object\n",
            "funding_round_type         object\n",
            "funded_at                  object\n",
            "funded_month               object\n",
            "funded_quarter             object\n",
            "funded_year                 int64\n",
            "raised_amount_usd         float64\n",
            "dtype: object\n",
            "company_permalink          object\n",
            "company_name               object\n",
            "company_category_code      object\n",
            "company_country_code       object\n",
            "company_state_code         object\n",
            "company_region             object\n",
            "company_city               object\n",
            "investor_permalink         object\n",
            "investor_name              object\n",
            "investor_category_code    float64\n",
            "investor_country_code      object\n",
            "investor_state_code        object\n",
            "investor_region            object\n",
            "investor_city              object\n",
            "funding_round_type         object\n",
            "funded_at                  object\n",
            "funded_month               object\n",
            "funded_quarter             object\n",
            "funded_year                 int64\n",
            "raised_amount_usd         float64\n",
            "dtype: object\n",
            "company_permalink          object\n",
            "company_name               object\n",
            "company_category_code      object\n",
            "company_country_code       object\n",
            "company_state_code         object\n",
            "company_region             object\n",
            "company_city               object\n",
            "investor_permalink         object\n",
            "investor_name              object\n",
            "investor_category_code    float64\n",
            "investor_country_code     float64\n",
            "investor_state_code       float64\n",
            "investor_region            object\n",
            "investor_city             float64\n",
            "funding_round_type         object\n",
            "funded_at                  object\n",
            "funded_month               object\n",
            "funded_quarter             object\n",
            "funded_year                 int64\n",
            "raised_amount_usd         float64\n",
            "dtype: object\n",
            "company_permalink          object\n",
            "company_name               object\n",
            "company_category_code      object\n",
            "company_country_code       object\n",
            "company_state_code         object\n",
            "company_region             object\n",
            "company_city               object\n",
            "investor_permalink         object\n",
            "investor_name              object\n",
            "investor_category_code    float64\n",
            "investor_country_code     float64\n",
            "investor_state_code       float64\n",
            "investor_region            object\n",
            "investor_city             float64\n",
            "funding_round_type         object\n",
            "funded_at                  object\n",
            "funded_month               object\n",
            "funded_quarter             object\n",
            "funded_year                 int64\n",
            "raised_amount_usd         float64\n",
            "dtype: object\n"
          ]
        }
      ]
    },
    {
      "cell_type": "code",
      "source": [
        "# Concatenate the chunks into a single DataFrame\n",
        "df = pd.concat(chunks)\n",
        "\n",
        "# Loop over the columns and display the unique value counts\n",
        "for col in df.columns:\n",
        "    print(f'{col}: {df[col].nunique()} unique values')\n"
      ],
      "metadata": {
        "colab": {
          "base_uri": "https://localhost:8080/"
        },
        "id": "1FOxAgckCH_D",
        "outputId": "16e666b6-09ab-4231-8a05-2c86be310012"
      },
      "execution_count": 3,
      "outputs": [
        {
          "output_type": "stream",
          "name": "stdout",
          "text": [
            "company_permalink: 11573 unique values\n",
            "company_name: 11573 unique values\n",
            "company_category_code: 43 unique values\n",
            "company_country_code: 2 unique values\n",
            "company_state_code: 50 unique values\n",
            "company_region: 546 unique values\n",
            "company_city: 1229 unique values\n",
            "investor_permalink: 10552 unique values\n",
            "investor_name: 10465 unique values\n",
            "investor_category_code: 33 unique values\n",
            "investor_country_code: 72 unique values\n",
            "investor_state_code: 50 unique values\n",
            "investor_region: 585 unique values\n",
            "investor_city: 990 unique values\n",
            "funding_round_type: 9 unique values\n",
            "funded_at: 2808 unique values\n",
            "funded_month: 192 unique values\n",
            "funded_quarter: 72 unique values\n",
            "funded_year: 20 unique values\n",
            "raised_amount_usd: 1458 unique values\n"
          ]
        }
      ]
    },
    {
      "cell_type": "code",
      "source": [
        "# Define a function to clean and split the company_category_code column\n",
        "def clean_category_list(df):\n",
        "    # Replace missing values with an empty string\n",
        "    df['company_category_code'] = df['company_category_code'].fillna('')\n",
        "    # Split the column into multiple columns using the vertical bar as a delimiter\n",
        "    split_cols = df['company_category_code'].str.split('|', expand=True)\n",
        "    # Rename the columns\n",
        "    split_cols.columns = [f'category_{i}' for i in range(split_cols.shape[1])]\n",
        "    # Convert the new columns to categorical types\n",
        "    for col in split_cols.columns:\n",
        "        split_cols[col] = split_cols[col].astype('category')\n",
        "    # Concatenate the new columns with the original DataFrame\n",
        "    return pd.concat([df, split_cols], axis=1)\n",
        "\n",
        "# Loop over the chunks, clean the category list column, and display the memory usage\n",
        "memory_usage = 0\n",
        "for i, chunk in enumerate(chunks):\n",
        "    chunk = clean_category_list(chunk)\n",
        "    memory_usage += chunk.memory_usage(deep=True).sum()\n",
        "    print(f'Chunk {i+1} memory usage: {memory_usage/1e6:.2f} MB')\n"
      ],
      "metadata": {
        "colab": {
          "base_uri": "https://localhost:8080/"
        },
        "id": "xYM9Pkq2CNVH",
        "outputId": "17db7bd8-672d-4b06-b82b-8e2f10617cc5"
      },
      "execution_count": 4,
      "outputs": [
        {
          "output_type": "stream",
          "name": "stdout",
          "text": [
            "Chunk 1 memory usage: 5.86 MB\n",
            "Chunk 2 memory usage: 11.67 MB\n",
            "Chunk 3 memory usage: 17.48 MB\n",
            "Chunk 4 memory usage: 23.29 MB\n",
            "Chunk 5 memory usage: 29.09 MB\n",
            "Chunk 6 memory usage: 34.93 MB\n",
            "Chunk 7 memory usage: 40.74 MB\n",
            "Chunk 8 memory usage: 46.52 MB\n",
            "Chunk 9 memory usage: 52.19 MB\n",
            "Chunk 10 memory usage: 57.07 MB\n",
            "Chunk 11 memory usage: 59.87 MB\n"
          ]
        }
      ]
    },
    {
      "cell_type": "markdown",
      "source": [],
      "metadata": {
        "id": "PzgKeJBIAj8q"
      }
    },
    {
      "cell_type": "markdown",
      "metadata": {
        "id": "OA2D7o4sds1t"
      },
      "source": [
        "## Question 3: Loading Chunks Into SQLite"
      ]
    },
    {
      "cell_type": "markdown",
      "metadata": {
        "id": "ptu8Xr25dvcF"
      },
      "source": [
        "Now we're in good shape to start exploring and analyzing the data. The next step is to load each chunk into a table in a SQLite database so we can query the full data set.\n",
        "\n",
        "**Tasks**\n",
        "\n",
        "1. Create and connect to a new SQLite database file.\n",
        "2. Expand on the existing chunk processing code to export each chunk to a new table in the SQLite database.\n",
        "3. Query the table and make sure the data types match up to what you had in mind for each column."
      ]
    },
    {
      "cell_type": "code",
      "metadata": {
        "id": "QH-j6fuXdu0v",
        "colab": {
          "base_uri": "https://localhost:8080/"
        },
        "outputId": "9885c0fe-4ced-40a5-f574-38b9c714491b"
      },
      "source": [
        "# Your code goes here\n",
        "from google.colab import drive\n",
        "import sqlite3\n",
        "\n",
        "# Mount Google Drive\n",
        "drive.mount('/content/drive')\n",
        "\n",
        "# Create a new SQLite database file in a mounted directory\n",
        "conn = sqlite3.connect('/content/drive/MyDrive/crunchbase.db')\n",
        "\n",
        "# Define the table name prefix\n",
        "table_name= 'investments'\n",
        "\n",
        "# Loop through the CSV file in chunks\n",
        "for chunk in chunks:\n",
        "    # Define the table name for this chunk\n",
        "    #table_name = table_name_prefix + str(i)\n",
        "    \n",
        "    # Export the chunk to the SQLite database\n",
        "    chunk.to_sql(table_name, conn, if_exists='replace', index=False)\n",
        "    \n",
        "\n"
      ],
      "execution_count": 18,
      "outputs": [
        {
          "output_type": "stream",
          "name": "stdout",
          "text": [
            "Drive already mounted at /content/drive; to attempt to forcibly remount, call drive.mount(\"/content/drive\", force_remount=True).\n"
          ]
        }
      ]
    },
    {
      "cell_type": "code",
      "source": [
        "# Get information about the columns in the first chunk table\n",
        "cursor = conn.execute('PRAGMA table_info(investments)')\n",
        "for row in cursor:\n",
        "    print(row)\n",
        "\n"
      ],
      "metadata": {
        "colab": {
          "base_uri": "https://localhost:8080/"
        },
        "id": "-sZQnY-b1gAY",
        "outputId": "826fd950-e390-49e3-cc47-fcd42aa43677"
      },
      "execution_count": 19,
      "outputs": [
        {
          "output_type": "stream",
          "name": "stdout",
          "text": [
            "(0, 'company_permalink', 'TEXT', 0, None, 0)\n",
            "(1, 'company_name', 'TEXT', 0, None, 0)\n",
            "(2, 'company_category_code', 'TEXT', 0, None, 0)\n",
            "(3, 'company_country_code', 'TEXT', 0, None, 0)\n",
            "(4, 'company_state_code', 'TEXT', 0, None, 0)\n",
            "(5, 'company_region', 'TEXT', 0, None, 0)\n",
            "(6, 'company_city', 'TEXT', 0, None, 0)\n",
            "(7, 'investor_permalink', 'TEXT', 0, None, 0)\n",
            "(8, 'investor_name', 'TEXT', 0, None, 0)\n",
            "(9, 'investor_category_code', 'REAL', 0, None, 0)\n",
            "(10, 'investor_country_code', 'REAL', 0, None, 0)\n",
            "(11, 'investor_state_code', 'REAL', 0, None, 0)\n",
            "(12, 'investor_region', 'TEXT', 0, None, 0)\n",
            "(13, 'investor_city', 'REAL', 0, None, 0)\n",
            "(14, 'funding_round_type', 'TEXT', 0, None, 0)\n",
            "(15, 'funded_at', 'TEXT', 0, None, 0)\n",
            "(16, 'funded_month', 'TEXT', 0, None, 0)\n",
            "(17, 'funded_quarter', 'TEXT', 0, None, 0)\n",
            "(18, 'funded_year', 'INTEGER', 0, None, 0)\n",
            "(19, 'raised_amount_usd', 'REAL', 0, None, 0)\n"
          ]
        }
      ]
    },
    {
      "cell_type": "markdown",
      "metadata": {
        "id": "Rt1jPEhseD8r"
      },
      "source": [
        "## Question 4: Next Steps"
      ]
    },
    {
      "cell_type": "markdown",
      "metadata": {
        "id": "Ggt-hEebeJGr"
      },
      "source": [
        "Now that the data is in SQLite, we can use the pandas SQLite workflow we learned in the last lesson to explore and analyze startup investments. Remember that each row isn't a unique company, but a unique investment from a single investor. This means that many startups will span multiple rows.\n",
        "\n",
        "Use the pandas SQLite workflow to answer the following questions:\n",
        "\n",
        "* What proportion of the total amount of funds did the top 10% raise? What about the top 1%? Compare these values to the proportions the bottom 10% and bottom 1% raised.\n",
        "* Which category of company attracted the most investments?\n",
        "* Which investor contributed the most money (across all startups)?\n",
        "* Which investors contributed the most money per startup?\n",
        "* Which funding round was the most popular? Which was the least popular?\n",
        "\n",
        "Here are some ideas for further exploration:\n",
        "\n",
        "* Repeat the tasks in this project using stricter memory constraints (under 1 megabyte).\n",
        "* Clean and analyze the other Crunchbase data sets from the same GitHub repo.\n",
        "* Understand which columns the data sets share, and how the data sets are linked.\n",
        "* Create a relational database design that links the data sets together and reduces the overall disk space the database file consumes.\n",
        "\n",
        "Use pandas to populate each table in the database, create the appropriate indexes, and so on."
      ]
    },
    {
      "cell_type": "code",
      "metadata": {
        "id": "FJo2f7N-ebgX"
      },
      "source": [
        "# Your code goes here\n",
        "\n",
        "\n",
        "# Define the SQL query\n",
        "query = '''\n",
        "SELECT raised_amount_usd,\n",
        "       SUM(raised_amount_usd) OVER (ORDER BY raised_amount_usd DESC) AS cumsum\n",
        "FROM investments\n",
        "'''\n",
        "\n",
        "# Read the results of the query into a DataFrame\n",
        "df = pd.read_sql_query(query, conn)\n",
        "\n",
        "# Calculate the total amount of funds raised\n",
        "total_raised = df['raised_amount_usd'].sum()"
      ],
      "execution_count": 20,
      "outputs": []
    },
    {
      "cell_type": "code",
      "source": [
        "# Calculate the amount of funds raised by the top and bottom 10% and 1% of companies\n",
        "top_10_percent_raised = df.loc[df['cumsum'] <= 0.1 * total_raised, 'raised_amount_usd'].sum()\n",
        "bottom_10_percent_raised = df.loc[df['cumsum'] >= 0.9 * total_raised, 'raised_amount_usd'].sum()\n",
        "top_1_percent_raised = df.loc[df['cumsum'] <= 0.01 * total_raised, 'raised_amount_usd'].sum()\n",
        "bottom_1_percent_raised = df.loc[df['cumsum'] >= 0.99 * total_raised, 'raised_amount_usd'].sum()\n",
        "\n",
        "# Calculate the proportion of the total amount of funds raised by the top and bottom 10% and 1% of companies\n",
        "top_10_percent_proportion = top_10_percent_raised / total_raised\n",
        "bottom_10_percent_proportion = bottom_10_percent_raised / total_raised\n",
        "top_1_percent_proportion = top_1_percent_raised / total_raised\n",
        "bottom_1_percent_proportion = bottom_1_percent_raised / total_raised\n",
        "\n",
        "# Print the results\n",
        "print('Top 10% proportion: {:.2%}'.format(top_10_percent_proportion))\n",
        "print('Bottom 10% proportion: {:.2%}'.format(bottom_10_percent_proportion))\n",
        "print('Top 1% proportion: {:.2%}'.format(top_1_percent_proportion))\n",
        "print('Bottom 1% proportion: {:.2%}'.format(bottom_1_percent_proportion))"
      ],
      "metadata": {
        "colab": {
          "base_uri": "https://localhost:8080/"
        },
        "id": "arLoN3OxLQ6u",
        "outputId": "ad10b8f9-95a3-48ab-f7c8-7ae08968455d"
      },
      "execution_count": 21,
      "outputs": [
        {
          "output_type": "stream",
          "name": "stdout",
          "text": [
            "Top 10% proportion: 9.57%\n",
            "Bottom 10% proportion: 12.19%\n",
            "Top 1% proportion: 0.00%\n",
            "Bottom 1% proportion: 1.33%\n"
          ]
        }
      ]
    },
    {
      "cell_type": "markdown",
      "source": [
        "### Which category of company attracted the most investments?"
      ],
      "metadata": {
        "id": "94u5RZSLLfmx"
      }
    },
    {
      "cell_type": "code",
      "source": [
        "# Query the data from the investments table\n",
        "data = pd.read_sql_query('SELECT * FROM investments', conn)\n",
        "\n",
        "# Group the data by category and count the number of investments for each category\n",
        "investments_by_category = data.groupby('company_category_code')['raised_amount_usd'].count()\n",
        "\n",
        "# Find the category with the highest number of investments\n",
        "most_investments_category = investments_by_category.idxmax()\n",
        "\n",
        "print(f\"The category with the most investments is {most_investments_category}\")"
      ],
      "metadata": {
        "colab": {
          "base_uri": "https://localhost:8080/"
        },
        "id": "wXQIykTULQrX",
        "outputId": "25068e28-61aa-4b6c-8a49-59aa4b5550ad"
      },
      "execution_count": 22,
      "outputs": [
        {
          "output_type": "stream",
          "name": "stdout",
          "text": [
            "The category with the most investments is web\n"
          ]
        }
      ]
    },
    {
      "cell_type": "markdown",
      "source": [
        "**The category with the most investments is software**"
      ],
      "metadata": {
        "id": "Rue7h75aM9IN"
      }
    },
    {
      "cell_type": "markdown",
      "source": [
        "### Which investor contributed the most money (across all startups)?"
      ],
      "metadata": {
        "id": "edNok22bM63U"
      }
    },
    {
      "cell_type": "code",
      "source": [
        "# Query the data from the investments table\n",
        "data = pd.read_sql_query('SELECT * FROM investments', conn)\n",
        "\n",
        "# Group the data by investor and sum the amount of money invested by each investor\n",
        "investments_by_investor = data.groupby('investor_name')['raised_amount_usd'].sum()\n",
        "\n",
        "# Find the investor who contributed the most money\n",
        "most_investments_investor = investments_by_investor.idxmax()\n",
        "\n",
        "print(f\"The investor who contributed the most money is {most_investments_investor}\")"
      ],
      "metadata": {
        "colab": {
          "base_uri": "https://localhost:8080/"
        },
        "id": "NDQ8fV1pNEtM",
        "outputId": "8eb0084f-e060-4127-ca42-f0c7bbcb48d8"
      },
      "execution_count": 23,
      "outputs": [
        {
          "output_type": "stream",
          "name": "stdout",
          "text": [
            "The investor who contributed the most money is Peter Thiel\n"
          ]
        }
      ]
    },
    {
      "cell_type": "markdown",
      "source": [
        "**The investor who contributed the most money is Peter Thiel**"
      ],
      "metadata": {
        "id": "2RG-Ud3dx5Oj"
      }
    },
    {
      "cell_type": "markdown",
      "source": [
        "### Which investors contributed the most money per startup?"
      ],
      "metadata": {
        "id": "QtsDzIHUx689"
      }
    },
    {
      "cell_type": "code",
      "source": [
        "query = \"SELECT * FROM investments\"\n",
        "df = pd.read_sql_query(query, conn)\n",
        "\n",
        "# group the data by startup name and investor name, and sum the investments\n",
        "grouped = df.groupby(['company_name', 'investor_name'], as_index=False)['raised_amount_usd'].sum()\n",
        "\n",
        "# find the investor that contributed the most money to each startup\n",
        "idx = grouped.groupby('company_name')['raised_amount_usd'].transform(max) == grouped['raised_amount_usd']\n",
        "result = grouped[idx]\n",
        "\n",
        "# print the result\n",
        "print(result[['company_name', 'investor_name', 'raised_amount_usd']].sort_values('raised_amount_usd', ascending=False))"
      ],
      "metadata": {
        "colab": {
          "base_uri": "https://localhost:8080/"
        },
        "id": "XHrzbmQsyHJj",
        "outputId": "104043b0-a017-4eaf-afe3-535b8255b626"
      },
      "execution_count": 24,
      "outputs": [
        {
          "output_type": "stream",
          "name": "stdout",
          "text": [
            "                         company_name   investor_name  raised_amount_usd\n",
            "1136          Legendary Entertainment     Peter Thiel        275000000.0\n",
            "1001             Intrexon Corporation  Randal J. Kirk        150000000.0\n",
            "2124                  T5 Data Centers   Raymond James        113000000.0\n",
            "1601  Pocket Communications Northeast     Paul Posner        100000000.0\n",
            "408                        CommonBond     Tom Kalaris        100000000.0\n",
            "...                               ...             ...                ...\n",
            "344                            ChatID   Patrick Keane                0.0\n",
            "345                            ChatID      Ralph Mack                0.0\n",
            "346                            ChatID  Rob Wiesenthal                0.0\n",
            "347                            ChatID   Zach Weinberg                0.0\n",
            "999            Internet Marketing Inc       Ryan Born                0.0\n",
            "\n",
            "[2383 rows x 3 columns]\n"
          ]
        }
      ]
    },
    {
      "cell_type": "markdown",
      "source": [
        "### Which funding round was the most popular? Which was the least popular?"
      ],
      "metadata": {
        "id": "0z0SA_pqzpWR"
      }
    },
    {
      "cell_type": "code",
      "source": [
        "# Query the number of investments in each funding round\n",
        "query = '''\n",
        "        SELECT funding_round_type, COUNT(*) as num_investments\n",
        "        FROM investments\n",
        "        GROUP BY funding_round_type\n",
        "        ORDER BY num_investments DESC\n",
        "        '''\n",
        "\n",
        "round_counts = pd.read_sql_query(query, conn)\n",
        "print(round_counts)"
      ],
      "metadata": {
        "colab": {
          "base_uri": "https://localhost:8080/"
        },
        "id": "BbOCnnV_yzbQ",
        "outputId": "d52ee70f-75f0-463a-c30b-08ea1da01b31"
      },
      "execution_count": 28,
      "outputs": [
        {
          "output_type": "stream",
          "name": "stdout",
          "text": [
            "  funding_round_type  num_investments\n",
            "0              angel             1342\n",
            "1           series-a             1037\n",
            "2            venture              215\n",
            "3           series-b              148\n",
            "4          series-c+               88\n",
            "5              other               30\n",
            "6     private-equity               10\n"
          ]
        }
      ]
    }
  ]
}